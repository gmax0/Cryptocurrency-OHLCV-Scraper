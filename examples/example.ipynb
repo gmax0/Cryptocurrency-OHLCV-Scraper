{
 "cells": [
  {
   "cell_type": "code",
   "execution_count": 4,
   "id": "2545d2c7-b6a2-4531-a8ee-d9c04faefbe6",
   "metadata": {},
   "outputs": [],
   "source": [
    "from py_cc_ohlcv import scraper, exchanges\n",
    "from datetime import datetime, timezone, timedelta\n",
    "import logging"
   ]
  },
  {
   "cell_type": "code",
   "execution_count": 5,
   "id": "73b45609-c2bd-413f-a544-4854522ab356",
   "metadata": {},
   "outputs": [
    {
     "name": "stderr",
     "output_type": "stream",
     "text": [
      "INFO:root:Executing job with parameters: \n",
      " \n",
      "        [EXCHANGE] kucoin, [INSTR] BTC-USDT, [RESOLUTION] 1m \n",
      "\n",
      "        [START] 2022-01-01 00:00:00+00:00 (1640995200000.0)\n",
      "\n",
      "        [END] 2022-01-02 00:00:00+00:00 (1641081600000.0)\n",
      "        \n"
     ]
    },
    {
     "name": "stdout",
     "output_type": "stream",
     "text": [
      "                   open     high      low    close     volume\n",
      "open_timestamp                                               \n",
      "1640995200000   46216.4  46271.5  46210.4  46245.4   4.786154\n",
      "1640995260000   46245.4  46326.9  46230.9  46293.4  17.923909\n",
      "1640995320000   46302.3  46370.5  46280.2  46359.8  17.375017\n",
      "1640995380000   46359.7  46382.9  46309.8  46322.8   5.070697\n",
      "1640995440000   46322.7  46329.2  46289.9  46316.8   3.413937\n",
      "...                 ...      ...      ...      ...        ...\n",
      "1641081300000   47691.4  47768.0  47658.1  47744.0  20.075448\n",
      "1641081360000   47743.9  47762.2  47715.6  47751.1   6.398773\n",
      "1641081420000   47751.9  47807.7  47719.2  47772.3   5.682060\n",
      "1641081480000   47779.9  47779.9  47732.8  47732.8   5.560245\n",
      "1641081540000   47732.8  47752.9  47715.6  47728.6   5.781858\n",
      "\n",
      "[1440 rows x 5 columns]\n"
     ]
    }
   ],
   "source": [
    "# Set Logger\n",
    "logging.basicConfig(level = logging.INFO)\n",
    "# logging.basicConfig(level = logging.DEBUG)\n",
    "\n",
    "# Set a start and end date\n",
    "start_date = datetime(2022, 1, 1)\n",
    "start_date = start_date.replace(tzinfo=timezone.utc)\n",
    "end_date = start_date + timedelta(hours=24)\n",
    "\n",
    "# Initialize Scraper\n",
    "# cb_scraper = scraper.Scraper(exchanges.COINBASE_PRO, \"BTC_USD\", \"1m\", start_date, end_date)\n",
    "#cb_scraper = scraper.Scraper(exchanges.BINANCE, \"BTC_USDT\", \"1m\", start_date, end_date)\n",
    "# cb_scraper = scraper.Scraper(exchanges.BINANCE_US, \"BTC_USDT\", \"1m\", start_date, end_date)\n",
    "# cb_scraper = scraper.Scraper(exchanges.FTX, \"BTC_USD\", \"1m\", start_date, end_date)\n",
    "cb_scraper = scraper.Scraper(exchanges.KUCOIN, \"BTC_USDT\", \"1m\", start_date, end_date)\n",
    "# cb_scraper = scraper.Scraper(exchanges.GEMINI, \"BTC_USD\", \"1m\", datetime.now(timezone.utc) - timedelta(hours=24), datetime.now(timezone.utc)) \n",
    "\n",
    "proxies = {\n",
    "    \"http\": \"http://0.0.0.0:8000\",\n",
    "    \"https\": \"https://0.0.0.0:8000\",\n",
    "}\n",
    "#cb_scraper.set_proxies(proxies)\n",
    "\n",
    "# Begin scrapping\n",
    "candles_df = cb_scraper.run()\n",
    "print(candles_df)"
   ]
  },
  {
   "cell_type": "code",
   "execution_count": null,
   "id": "bafb4d80-1c5a-4243-a095-ddbf5a37288e",
   "metadata": {},
   "outputs": [],
   "source": []
  }
 ],
 "metadata": {
  "kernelspec": {
   "display_name": "Python 3 (ipykernel)",
   "language": "python",
   "name": "python3"
  },
  "language_info": {
   "codemirror_mode": {
    "name": "ipython",
    "version": 3
   },
   "file_extension": ".py",
   "mimetype": "text/x-python",
   "name": "python",
   "nbconvert_exporter": "python",
   "pygments_lexer": "ipython3",
   "version": "3.7.12"
  }
 },
 "nbformat": 4,
 "nbformat_minor": 5
}
